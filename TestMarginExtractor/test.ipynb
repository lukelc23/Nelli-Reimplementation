{
 "cells": [
  {
   "cell_type": "code",
   "execution_count": null,
   "id": "ccb867f5",
   "metadata": {},
   "outputs": [],
   "source": [
    "import os, sys\n",
    "sys.path.insert(0, os.path.abspath(\"..\"))\n",
    "from csv_margin import MarginExtractor\n",
    "\n",
    "csv_path = \"TestMarginExtractor/training_pair_margins_conjunctive_small_lr_copy.csv\"\n",
    "assert os.path.exists(csv_path), f\"CSV not found: {csv_path}\"\n",
    "\n",
    "training_progress = MarginExtractor.load_training_progress_from_csv(csv_path)\n",
    "print(\"training_progress shape:\", training_progress.shape)\n"
   ]
  },
  {
   "cell_type": "code",
   "execution_count": null,
   "id": "b89e491c",
   "metadata": {},
   "outputs": [],
   "source": [
    "# Save a round-trip copy using the class method we added\n",
    "roundtrip_path = \"TestMarginExtractor/roundtrip_copy.csv\"\n",
    "\n",
    "from csv_margin import MarginExtractor\n",
    "\n",
    "# Wrap the loaded array into a results-like dict and construct a real MarginExtractor\n",
    "results_like = {\"train\": {\"training_progress\": training_progress}}\n",
    "me = MarginExtractor(results_like)\n",
    "me.save_training_progress_csv(roundtrip_path)\n",
    "print(\"Wrote:\", roundtrip_path)\n",
    "\n",
    "# Reload round-trip and check a few entries match\n",
    "training_progress_rt = MarginExtractor.load_training_progress_from_csv(roundtrip_path)\n",
    "print(\"roundtrip shape:\", training_progress_rt.shape)\n",
    "\n",
    "import numpy as np\n",
    "print(\"allclose sample:\", np.allclose(training_progress[:, :3, :3, :3], training_progress_rt[:, :3, :3, :3], equal_nan=True))\n"
   ]
  }
 ],
 "metadata": {
  "language_info": {
   "name": "python"
  }
 },
 "nbformat": 4,
 "nbformat_minor": 5
}
